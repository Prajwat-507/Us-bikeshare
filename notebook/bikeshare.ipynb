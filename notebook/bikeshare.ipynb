{
 "cells": [
  {
   "cell_type": "markdown",
   "id": "5962ddea-a64d-4dad-9ba0-8230eab6dfd2",
   "metadata": {},
   "source": [
    "# Getting started with Project"
   ]
  },
  {
   "cell_type": "markdown",
   "id": "7c37d76c-b84e-4600-869d-de60a7426ff3",
   "metadata": {},
   "source": [
    "## Import libraries"
   ]
  },
  {
   "cell_type": "code",
   "execution_count": 18,
   "id": "02fbca85-65aa-4205-b222-357b6f75f02a",
   "metadata": {},
   "outputs": [],
   "source": [
    "import pandas as pd\n",
    "import numpy as np\n",
    "import time\n",
    "from datetime import timedelta\n",
    "import seaborn as sns\n",
    "import matplotlib.pyplot as plt"
   ]
  },
  {
   "cell_type": "markdown",
   "id": "ddc466ab-0439-4417-8613-40e76dd16309",
   "metadata": {},
   "source": [
    "### Data"
   ]
  },
  {
   "cell_type": "code",
   "execution_count": 19,
   "id": "52a8c9c1-e560-4ea2-ba14-c963305e1116",
   "metadata": {},
   "outputs": [],
   "source": [
    "CITY_DATA = {'chicago': 'chicago.csv',\n",
    "      'new york city': 'new_york_city.csv',\n",
    "      'washington': 'washington.csv'}"
   ]
  },
  {
   "cell_type": "code",
   "execution_count": 20,
   "id": "1d5e9966-6a98-453b-9044-bb4643be9bfe",
   "metadata": {},
   "outputs": [],
   "source": [
    "# Initializing dictionary for storing cleaned data\n",
    "cleaned_city_data={}"
   ]
  },
  {
   "cell_type": "markdown",
   "id": "2214f3ca-6ed4-4903-837e-538d1bc191ff",
   "metadata": {},
   "source": [
    "### Cleaning Data"
   ]
  },
  {
   "cell_type": "code",
   "execution_count": 21,
   "id": "17628951-e24e-4336-b619-196e8b8cd45c",
   "metadata": {},
   "outputs": [],
   "source": [
    "# Function to process and clean data\n",
    "def cleanData():\n",
    "    \n",
    "    for city, filepath in CITY_DATA.items():\n",
    "        print(f\"\\nProcessing data for: {city.title()} ({filepath})\")\n",
    "\n",
    "        # Loading file\n",
    "        df = pd.read_csv(filepath) \n",
    " \n",
    "         # Dropping unwanted file i.e: Unnamed: 0\n",
    "        df.drop(columns='Unnamed: 0', inplace=True) \n",
    "\n",
    "        #  Converting time data from objects to standard time type\n",
    "        df['Start Time'] = pd.to_datetime(df['Start Time'])  \n",
    "        df['End Time'] = pd.to_datetime(df['End Time'])\n",
    "\n",
    "        # Adding new features to data i.e: month, day, start time and end time\n",
    "        df['Month'] = df['Start Time'].dt.month_name().str.lower()\n",
    "        df['Day'] = df['Start Time'].dt.day_name().str.lower()\n",
    "        df['Start time'] = df['Start Time'].dt.time\n",
    "        df['End time'] = df['End Time'].dt.time\n",
    "\n",
    "        # Making day col Starndard\n",
    "        df['Day'] = df['Day'].apply(lambda x: \"monday\" if x == 0 else \"tuesday\" if x == 1 else \"wednesday\" if x == 2 else \n",
    "                                    \"thursday\" if x == 3 else \"friday\" if x == 4 else \"saturday\" if x == 5 else \"sunday\" if x == 6 else x)\n",
    "\n",
    "        # Converting columns gender and birth year to string object\n",
    "        if('Gender' not in df and 'Birth Year' not in df):\n",
    "            df['Gender'] = 'N/A'\n",
    "            df['Birth Year'] = 'N/A'\n",
    "        else:\n",
    "            df['Gender'] = df['Gender'].astype(str).str.lower()\n",
    "            df['Birth Year'] = df['Birth Year'].astype(str).str.lower()\n",
    "\n",
    "        # Dropping unwanted file since, it has no further use\n",
    "        df.drop(columns='Start Time', inplace=True)\n",
    "        df.drop(columns='End Time', inplace=True)\n",
    "\n",
    "        # Adding a new column i.e: Age\n",
    "        df['Birth Year'] = pd.to_numeric(df['Birth Year'], errors='coerce')\n",
    "        df['Age'] = df['Birth Year'].apply(lambda x: 0 if pd.isnull(x) else 2017-int(x))\n",
    "            \n",
    "        # Save cleaned data to new CSV file\n",
    "        cleaned_filepath = f\"{city.replace(' ', '_')}_cleaned.csv\"\n",
    "        df.to_csv(cleaned_filepath, index=False)\n",
    "\n",
    "        # Add city and cleaned CSV path to dictionary\n",
    "        cleaned_city_data[city] = cleaned_filepath\n",
    "            \n",
    "    return cleaned_city_data"
   ]
  },
  {
   "cell_type": "markdown",
   "id": "07a9970b-96b8-420b-828e-bef2bbd382bb",
   "metadata": {},
   "source": [
    "### Filtering and Loading Data"
   ]
  },
  {
   "cell_type": "code",
   "execution_count": 22,
   "id": "b9c06e5e-8bf9-4083-a251-c7bcab31622f",
   "metadata": {},
   "outputs": [],
   "source": [
    "# Filtering data as per user need\n",
    "def get_filters():\n",
    "    \n",
    "    print('Hello! Let\\'s explore some US bikeshare data!')\n",
    "    \n",
    "    # Getting user input for city i.e: chicago, new_york_city_cleaned and washington\n",
    "    cities = ['chicago', 'new york city', 'washington']\n",
    "    while True:\n",
    "        city = input(\"\\nEnter city name (chicago, new york city, washington): \").strip().lower()\n",
    "        if city in cities:\n",
    "            break\n",
    "        else:\n",
    "            print(\"Invalid input. Please enter a valid city name.\")\n",
    "\n",
    "    # Getting user input for month (all, january, february, ... , june)\n",
    "    months = ['january', 'february', 'march', 'april', 'may', 'june', 'all']\n",
    "    while True:\n",
    "        month = input(\"\\nEnter month (january, february, ....., june or 'all'): \").strip().lower()\n",
    "        if month in months:\n",
    "            break\n",
    "        else:\n",
    "            print(\"Invalid input. Please enter a valid month.\")\n",
    "\n",
    "\n",
    "    # Getting user input for day of week (all, monday, tuesday, ... sunday)\n",
    "    days = ['monday', 'tuesday', 'wednesday', 'thursday', 'friday', 'saturday', 'sunday', 'all']\n",
    "    while True:\n",
    "        day = input(\"\\nEnter day of week (monday, tuesday, ...., sunday or 'all'): \").strip().lower()\n",
    "        if day in days:\n",
    "            break\n",
    "        else:\n",
    "            print(\"Invalid input. Please enter a valid day.\")\n",
    "\n",
    "    print('-'*40)\n",
    "    return city, month, day"
   ]
  },
  {
   "cell_type": "code",
   "execution_count": 23,
   "id": "2a4549fd-5866-4f85-ba88-d79e94d7b2ee",
   "metadata": {},
   "outputs": [],
   "source": [
    "# Loading cleaned data for EDA(Exploratory Data Analysis)\n",
    "def load_data(city, month, day):\n",
    "    \n",
    "    # Loading data based on city\n",
    "    df = pd.read_csv(cleaned_city_data[city])\n",
    "    select_df = df\n",
    "    \n",
    "    # loading data based on month & day\n",
    "    if(month!='all'):\n",
    "        select_df = df[df['Month'].isin([month])]\n",
    "\n",
    "    if(day!='all'):\n",
    "        select_df = select_df[select_df['Day'].isin([day])]\n",
    "    \n",
    "    return select_df"
   ]
  },
  {
   "cell_type": "markdown",
   "id": "2d8c2ca1-3672-46aa-b304-53567b4fa1a8",
   "metadata": {},
   "source": [
    "### Calculating and Printing Stats"
   ]
  },
  {
   "cell_type": "code",
   "execution_count": 24,
   "id": "cd26b88a-a1cf-4503-9909-2bac06d6cc09",
   "metadata": {},
   "outputs": [],
   "source": [
    "# Caculating and printing time stats\n",
    "def time_stats(df):\n",
    "\n",
    "    print('\\nCalculating The Most Frequent Times of Travel...\\n')\n",
    "    # start time of the function/calculation\n",
    "    start_time = time.time()\n",
    "    formatted_time = time.strftime(\"%Y-%m-%d %H:%M:%S\", time.localtime(start_time))\n",
    "    print(f\"Code started executing at: {formatted_time}\")\n",
    "\n",
    "    select_df = df\n",
    "    \n",
    "    # display the most common month\n",
    "    common_month = select_df['Month'].value_counts().idxmax()\n",
    "    \n",
    "    # display the most common day of week\n",
    "    common_week = select_df['Day'].value_counts().idxmax()\n",
    "    \n",
    "    # display the most common start hour\n",
    "    common_starthr = select_df['Start time'].value_counts().idxmax()\n",
    "\n",
    "    # display most common end hour\n",
    "    common_endhr = select_df['End time'].value_counts().idxmax()\n",
    "\n",
    "    # Formatting \n",
    "    s_hours, s_minutes, s_seconds = common_starthr.split(':')\n",
    "    e_hours, e_minutes, e_seconds = common_endhr.split(':')\n",
    "    \n",
    "    s_formatted_time = f\"{s_hours}hr\" + \\\n",
    "                 (f\" {s_minutes}min\" if int(s_minutes) > 0 else \"\") + \\\n",
    "                 (f\" {s_seconds}sec\" if int(s_seconds) > 0 else \"\")\n",
    "    \n",
    "    e_formatted_time = f\"{e_hours}hr\" + \\\n",
    "                 (f\" {e_minutes}min\" if int(e_minutes) > 0 else \"\") + \\\n",
    "                 (f\" {e_seconds}sec\" if int(e_seconds) > 0 else \"\")\n",
    "    \n",
    "    print(f\"Most Common Month        : {common_month.title()}\")\n",
    "    print(f\"Most Common Day of Week  : {common_week.title()}\")\n",
    "    print(f\"Most Common Start Hour   : {s_formatted_time}\")\n",
    "    print(f\"Most Common End Hour     : {e_formatted_time}\")\n",
    "\n",
    "\n",
    "    duration = start_time-time.time()\n",
    "    print(f\"Code took: {duration:.2f} seconds\")\n",
    "    print('-'*40)"
   ]
  },
  {
   "cell_type": "code",
   "execution_count": 25,
   "id": "a52c70d4-bf02-4460-82a5-1bb6dab49779",
   "metadata": {},
   "outputs": [],
   "source": [
    "# Calculating and printing time stats\n",
    "def station_stats(df):\n",
    "\n",
    "    print('\\nCalculating The Most Popular Stations and Trip...\\n')\n",
    "    # Start time of function/calculation\n",
    "    start_time = time.time()\n",
    "    print(start_time)\n",
    "    \n",
    "    select_df = df\n",
    "    \n",
    "    # display most commonly used start station\n",
    "    common_startSt = select_df['Start Station'].value_counts().idxmax()\n",
    "    \n",
    "    # display most commonly used end station\n",
    "    common_EndSt = select_df['End Station'].value_counts().idxmax()\n",
    "    \n",
    "    # display most frequent combination of start station and end station trip\n",
    "    common_trip = df[['Start Station', 'End Station']].value_counts().idxmax()\n",
    "\n",
    "    print(f\"Most Common Start Station        : {common_startSt}\")\n",
    "    print(f\"Most Common End Station          : {common_EndSt}\")\n",
    "    print(f\"Most Frequent Trip Combination   : {common_trip[0]}  TO  {common_trip[1]}\")\n",
    "\n",
    "    duration = start_time-time.time()\n",
    "    print(f\"Code took: {duration:.2f} seconds\")\n",
    "    print('-'*40)"
   ]
  },
  {
   "cell_type": "code",
   "execution_count": 26,
   "id": "398058b2-28f1-4fd3-b5f8-a1568f63a0e8",
   "metadata": {},
   "outputs": [],
   "source": [
    "# Calculating and printing trip_duration_stats\n",
    "def trip_duration_stats(df):\n",
    "    print('\\nCalculating Trip Duration...\\n')\n",
    "\n",
    "    select_df = df\n",
    "\n",
    "    # Total and average duration\n",
    "    total_duration = select_df['Trip Duration'].sum()\n",
    "    mean_duration = select_df['Trip Duration'].mean()\n",
    "\n",
    "    # Min and max durations\n",
    "    min_duration = select_df['Trip Duration'].min()\n",
    "    max_duration = select_df['Trip Duration'].max()\n",
    "\n",
    "    # Average duration by user type\n",
    "    avg_trip_user_type = df.groupby('User Type')['Trip Duration'].mean()\n",
    "\n",
    "    print(f\"Total Travel Time     : {format_duration(total_duration)}\")\n",
    "    print(f\"Average Travel Time   : {format_duration(mean_duration)}\")\n",
    "    print(f\"Minimum Travel Time   : {format_duration(min_duration)}\")\n",
    "    print(f\"Maximum Travel Time   : {format_duration(max_duration)}\")\n",
    "\n",
    "    if 'Subscriber' in avg_trip_user_type:\n",
    "        print(f\"Average Trip by Subscriber : {format_duration(avg_trip_user_type['Subscriber'])}\")\n",
    "    if 'Customer' in avg_trip_user_type:\n",
    "        print(f\"Average Trip by Customer   : {format_duration(avg_trip_user_type['Customer'])}\")"
   ]
  },
  {
   "cell_type": "code",
   "execution_count": 27,
   "id": "57692130-7866-47bb-9f53-28b6e20aeab8",
   "metadata": {},
   "outputs": [],
   "source": [
    "# Helper function to format duration in seconds into 'X days Y hr Z min'\n",
    "def format_duration(seconds):\n",
    "    duration = timedelta(seconds=int(seconds))\n",
    "    days = duration.days\n",
    "    hours = (seconds % 86400) // 3600\n",
    "    minutes = (seconds % 3600) // 60\n",
    "\n",
    "    time_str = (f\"{days} days\" if days > 0 else \"\") + \\\n",
    "               (f\" {hours:.0f} hr\" if hours > 0 else \"\") + \\\n",
    "               (f\" {minutes:.0f} min\" if minutes > 0 else \"\")\n",
    "    \n",
    "    return time_str.strip()"
   ]
  },
  {
   "cell_type": "code",
   "execution_count": 28,
   "id": "e66914de-1c7b-47c1-92db-3b00f63c0153",
   "metadata": {},
   "outputs": [],
   "source": [
    "# Calculating and printing User stats\n",
    "def user_stats(df):\n",
    "    \n",
    "    print('\\nCalculating User Stats...\\n')\n",
    "    start_time = time.time()\n",
    "    # print(start_time)\n",
    "    select_df=df\n",
    "    # Display earliest, most recent, and most common year of birth\n",
    "    \n",
    "    # Display counts of user types\n",
    "    user_types = select_df['User Type'].value_counts()\n",
    "        \n",
    "    # Display counts of gender\n",
    "    gender_count = select_df['Gender'].value_counts()\n",
    "\n",
    "    # Display avg age\n",
    "    avg_age = select_df['Age'].mean()\n",
    "        \n",
    "    print(f\"User Types: Subscriber: {user_types.values[0] if len(user_types) > 0 else 'No Data'}, Customer: {user_types.values[1] if len(user_types) > 1 else 'No Data'}\")\n",
    "    \n",
    "    print(f\"Gender Counts: {'No Data Available' if gender_count.empty else f'Male: {gender_count[0]}, Female: {gender_count[1]}'}\")\n",
    "\n",
    "    print(f\"Average age: {avg_age:.0f}\")\n",
    "\n",
    "    if(select_df['Birth Year'].isnull().all()):\n",
    "        \n",
    "         print(\"\\nBirth Year Statistics: Not Availabel\")\n",
    "    else:\n",
    "         # Most earliest Job\n",
    "        earliest_yob = select_df['Birth Year'].min()\n",
    "\n",
    "        # Most recent year of birth\n",
    "        most_recent_yob = select_df['Birth Year'].max()\n",
    "    \n",
    "        # Most common year of birth\n",
    "        most_common_yob = select_df['Birth Year'].mode()[0]\n",
    "\n",
    "        print(\"\\nBirth Year Statistics:\")\n",
    "        print(f\"Earliest Year of Birth      : {int(earliest_yob)}\")\n",
    "        print(f\"Most Recent Year of Birth   : {int(most_recent_yob)}\")\n",
    "        print(f\"Most Common Year of Birth   : {int(most_common_yob)}\")\n",
    "\n",
    "    duration = start_time-time.time()\n",
    "    print(f\"Code took: {duration:.2f} seconds\")\n",
    "    print('-'*40)"
   ]
  },
  {
   "cell_type": "markdown",
   "id": "a1071383-2fd2-40dc-89f4-85d82cbb8d43",
   "metadata": {},
   "source": [
    "### Data Visualization for more Insights"
   ]
  },
  {
   "cell_type": "code",
   "execution_count": 29,
   "id": "034c2c53-c5d8-4c24-9303-10af8ce376f1",
   "metadata": {},
   "outputs": [],
   "source": [
    "# Visual stats for a city and any particular month and particular day\n",
    "def showStats(city, month, day):\n",
    "    df = load_data(city, month, day)\n",
    "\n",
    "    print(f\"\\n Showing Statistical Insights for:\\n City: {city.title()}, Month: {month.title()}, Day: {day.title()}\\n\")\n",
    "    \n",
    "    print('_'*50)\n",
    "    # Plot top N busiest stations on that day\n",
    "    top_stations = df[['Start Station', 'End Station']].value_counts().head(10)\n",
    "    \n",
    "    station_labels = [f\"{start} → {end}\" for start, end in top_stations.index]\n",
    "    \n",
    "    sns.barplot(x=top_stations.values, y=station_labels, palette='viridis')\n",
    "    plt.title('Top 10 Most Frequent Station Pairs\\n')\n",
    "    plt.xlabel('Trip Count')\n",
    "    plt.ylabel('Station Pair')\n",
    "    plt.show()\n",
    "\n",
    "    # Trip duration vs User type\n",
    "    sns.barplot(x=df['User Type'], y=df['Trip Duration'], palette='viridis')\n",
    "    plt.title('How many subscribers spend time riding vs customers\\n')\n",
    "    plt.xlabel('User type')\n",
    "    plt.ylabel('Trip Duration(sec)')\n",
    "    plt.show()\n",
    "\n",
    "    print('_'*50)\n",
    "    "
   ]
  },
  {
   "cell_type": "code",
   "execution_count": 30,
   "id": "7c965983-9f3b-45a8-903b-08a200afec2c",
   "metadata": {},
   "outputs": [],
   "source": [
    "# Visual stats for a city and a month wrt all day\n",
    "def showStatsDay(city, month, day):\n",
    "    df = load_data(city,month,day)\n",
    "    print(f\"\\n Showing Statistical Insights for:\\n City: {city.title()}, Month: {month.title()}, Day: {day.title()}\\n\")\n",
    "\n",
    "    print('_'*50)\n",
    "    sns.barplot(x=df['Day'], y=df['Trip Duration'], palette='viridis')\n",
    "    plt.title('Usage according to day\\n')\n",
    "    plt.xlabel('Days')\n",
    "    plt.ylabel('Trip Duration(sec)')\n",
    "    plt.show()\n",
    "\n",
    "        # Plot grouped bar plot\n",
    "    sns.countplot(data=df, x='Day', hue='User Type')\n",
    "    \n",
    "    # Title and labels\n",
    "    plt.title('User Type vs Day')\n",
    "    plt.xlabel('Day of the Week')\n",
    "    plt.ylabel('Number of Trips')\n",
    "    plt.legend(title='User Type')\n",
    "    plt.xticks(rotation=0)\n",
    "    plt.show()\n",
    "\n",
    "    print('_'*50)"
   ]
  },
  {
   "cell_type": "code",
   "execution_count": 31,
   "id": "5ca16c56-7ee7-4cce-a88f-f4d142e1f619",
   "metadata": {},
   "outputs": [],
   "source": [
    "# Visual stats for a city and a day wrt all month\n",
    "def showStatsMonth(city, month, day):\n",
    "    \n",
    "    df = load_data(city,month,day)\n",
    "    print(f\"\\n Showing Statistical Insights for:\\n City: {city.title()}, Month: {month.title()}, Day: {day.title()}\\n\")\n",
    "    \n",
    "    print('_'*50)\n",
    "    # Maximum isage of bikeshare system wrt month\n",
    "    sns.countplot(data=df, x='Month')\n",
    "    plt.title('Seasonal Patterns – Trips per Month')\n",
    "    plt.xlabel('Month')\n",
    "    plt.ylabel('Trip Count')\n",
    "    plt.xticks(rotation=45)\n",
    "    plt.show()\n",
    "\n",
    "    # User type trend\n",
    "    sns.countplot(data=df, x='Month', hue='User Type')\n",
    "    plt.title('User Type Trends Over Months')\n",
    "    plt.xlabel('Month')\n",
    "    plt.ylabel('Trip Count')\n",
    "    plt.legend(title='User Type')\n",
    "    plt.xticks(rotation=45)\n",
    "    plt.tight_layout()\n",
    "    plt.show()\n",
    "    print('_'*50)"
   ]
  },
  {
   "cell_type": "code",
   "execution_count": 32,
   "id": "d5701451-41e0-44c8-b2d3-9448034a2fda",
   "metadata": {},
   "outputs": [],
   "source": [
    "# main function\n",
    "def main():\n",
    "    cleanData()\n",
    "    \n",
    "    while True:\n",
    "        city, month, day = get_filters()\n",
    "        df = load_data(city, month, day)\n",
    "    \n",
    "        time_stats(df)\n",
    "        station_stats(df)\n",
    "        trip_duration_stats(df)\n",
    "        user_stats(df)\n",
    "        \n",
    "        while True:\n",
    "            want_VisualStats = input('\\nWould you like to see some Statistical plots for more Insights? Enter yes or no:\\n').strip().lower()\n",
    "        \n",
    "            if want_VisualStats == 'yes':\n",
    "                city, month, day = get_filters()\n",
    "        \n",
    "                if day == 'all' and month == 'all':\n",
    "                    print(\"Please select either a city or a month or both — not all for both.\")\n",
    "                else:\n",
    "                    if day != 'all' and month != 'all':\n",
    "                        showStats(city, month, day)\n",
    "                    elif day == 'all' and month != 'all':\n",
    "                        showStatsDay(city, month, day)\n",
    "                    elif day != 'all' and month == 'all':\n",
    "                        showStatsMonth(city, month, day)\n",
    "                    else:\n",
    "                        print(\"**Available data is insufficient**\")\n",
    "        \n",
    "            elif want_VisualStats == 'no':\n",
    "                break\n",
    "        \n",
    "            else:\n",
    "                print(\"Invalid input! Please enter 'yes' or 'no'. Try again.\")\n",
    "\n",
    "            \n",
    "        while True:\n",
    "            i=5\n",
    "            raw_data = input('\\nWould you like to see rew data? Enter yes or no.\\n')\n",
    "            if raw_data.lower() == \"yes\":\n",
    "                print(df.head(i))\n",
    "                i+=5\n",
    "            elif raw_data.lower() == \"no\":\n",
    "                print(\"Thank You\")\n",
    "                break\n",
    "        \n",
    "        restart = input('\\nWould you like to restart? Enter yes or no.\\n')\n",
    "        if restart.lower() == \"yes\":\n",
    "            continue\n",
    "        elif restart.lower() == \"no\":\n",
    "            print(\"Thank You\")\n",
    "            break\n",
    "        "
   ]
  },
  {
   "cell_type": "code",
   "execution_count": 33,
   "id": "f0ed9a68-07b3-44a1-a0f1-f0257a8a9371",
   "metadata": {},
   "outputs": [
    {
     "name": "stdout",
     "output_type": "stream",
     "text": [
      "\n",
      "Processing data for: Chicago (chicago.csv)\n",
      "\n",
      "Processing data for: New York City (new_york_city.csv)\n",
      "\n",
      "Processing data for: Washington (washington.csv)\n",
      "Hello! Let's explore some US bikeshare data!\n"
     ]
    },
    {
     "name": "stdin",
     "output_type": "stream",
     "text": [
      "\n",
      "Enter city name (chicago, new york city, washington):  chicago\n",
      "\n",
      "Enter month (january, february, ....., june or 'all'):  january\n",
      "\n",
      "Enter day of week (monday, tuesday, ...., sunday or 'all'):  monday\n"
     ]
    },
    {
     "name": "stdout",
     "output_type": "stream",
     "text": [
      "----------------------------------------\n"
     ]
    },
    {
     "name": "stderr",
     "output_type": "stream",
     "text": [
      "C:\\Users\\dell\\AppData\\Local\\Temp\\ipykernel_21336\\601249147.py:21: FutureWarning: Series.__getitem__ treating keys as positions is deprecated. In a future version, integer keys will always be treated as labels (consistent with DataFrame behavior). To access a value by position, use `ser.iloc[pos]`\n",
      "  print(f\"Gender Counts: {'No Data Available' if gender_count.empty else f'Male: {gender_count[0]}, Female: {gender_count[1]}'}\")\n"
     ]
    },
    {
     "name": "stdout",
     "output_type": "stream",
     "text": [
      "\n",
      "Calculating The Most Frequent Times of Travel...\n",
      "\n",
      "Code started executing at: 2025-03-20 11:18:05\n",
      "Most Common Month        : January\n",
      "Most Common Day of Week  : Monday\n",
      "Most Common Start Hour   : 16hr 57min 15sec\n",
      "Most Common End Hour     : 07hr 46min 29sec\n",
      "Code took: 0.00 seconds\n",
      "----------------------------------------\n",
      "\n",
      "Calculating The Most Popular Stations and Trip...\n",
      "\n",
      "1742449685.5327163\n",
      "Most Common Start Station        : Clinton St & Washington Blvd\n",
      "Most Common End Station          : Clinton St & Washington Blvd\n",
      "Most Frequent Trip Combination   : Michigan Ave & Lake St  TO  Canal St & Madison St\n",
      "Code took: -0.02 seconds\n",
      "----------------------------------------\n",
      "\n",
      "Calculating Trip Duration...\n",
      "\n",
      "Total Travel Time     : 26 days 13 min\n",
      "Average Travel Time   : 10 min\n",
      "Minimum Travel Time   : 1 min\n",
      "Maximum Travel Time   : 20 hr 39 min\n",
      "Average Trip by Subscriber : 10 min\n",
      "Average Trip by Customer   : 23 min\n",
      "\n",
      "Calculating User Stats...\n",
      "\n",
      "User Types: Subscriber: 3408, Customer: 104\n",
      "Gender Counts: Male: 2728, Female: 687\n",
      "Average age: 37\n",
      "\n",
      "Birth Year Statistics:\n",
      "Earliest Year of Birth      : 1934\n",
      "Most Recent Year of Birth   : 1999\n",
      "Most Common Year of Birth   : 1989\n",
      "Code took: -0.02 seconds\n",
      "----------------------------------------\n"
     ]
    },
    {
     "name": "stdin",
     "output_type": "stream",
     "text": [
      "\n",
      "Would you like to see some Statistical plots for more Insights? Enter yes or no:\n",
      " yes\n"
     ]
    },
    {
     "name": "stdout",
     "output_type": "stream",
     "text": [
      "Hello! Let's explore some US bikeshare data!\n"
     ]
    },
    {
     "name": "stdin",
     "output_type": "stream",
     "text": [
      "\n",
      "Enter city name (chicago, new york city, washington):  chicago\n",
      "\n",
      "Enter month (january, february, ....., june or 'all'):  all\n",
      "\n",
      "Enter day of week (monday, tuesday, ...., sunday or 'all'):  saturday\n"
     ]
    },
    {
     "name": "stdout",
     "output_type": "stream",
     "text": [
      "----------------------------------------\n",
      "\n",
      " Showing Statistical Insights for:\n",
      " City: Chicago, Month: All, Day: Saturday\n",
      "\n",
      "__________________________________________________\n"
     ]
    },
    {
     "data": {
      "image/png": "[encoded data removed]",
      "text/plain": [
       "<Figure size 640x480 with 1 Axes>"
      ]
     },
     "metadata": {},
     "output_type": "display_data"
    },
    {
     "data": {
      "image/png": "[encoded data removed]",
      "text/plain": [
       "<Figure size 640x480 with 1 Axes>"
      ]
     },
     "metadata": {},
     "output_type": "display_data"
    },
    {
     "name": "stdout",
     "output_type": "stream",
     "text": [
      "__________________________________________________\n"
     ]
    },
    {
     "name": "stdin",
     "output_type": "stream",
     "text": [
      "\n",
      "Would you like to see some Statistical plots for more Insights? Enter yes or no:\n",
      " no\n",
      "\n",
      "Would you like to see rew data? Enter yes or no.\n",
      " yes\n"
     ]
    },
    {
     "name": "stdout",
     "output_type": "stream",
     "text": [
      "     Trip Duration                  Start Station  \\\n",
      "121            865                   Field Museum   \n",
      "167            387     Indiana Ave & Roosevelt Rd   \n",
      "236            844  Pine Grove Ave & Waveland Ave   \n",
      "253            685      Artesian Ave & Hubbard St   \n",
      "256            305    Lincoln Ave & Diversey Pkwy   \n",
      "\n",
      "                           End Station   User Type  Gender  Birth Year  \\\n",
      "121                    Millennium Park  Subscriber    male      1992.0   \n",
      "167       Michigan Ave & Washington St  Subscriber    male      1990.0   \n",
      "236  Ravenswood Ave & Montrose Ave (*)  Subscriber  female      1990.0   \n",
      "253    Racine Ave (May St) & Fulton St  Subscriber    male      1972.0   \n",
      "256          Lincoln Ave & Belmont Ave  Subscriber    male      1987.0   \n",
      "\n",
      "       Month     Day Start time  End time  Age  \n",
      "121  january  monday   14:54:38  15:09:03   25  \n",
      "167  january  monday   18:50:16  18:56:43   27  \n",
      "236  january  monday   11:29:52  11:43:56   27  \n",
      "253  january  monday   07:21:14  07:32:39   45  \n",
      "256  january  monday   23:40:20  23:45:25   30  \n"
     ]
    },
    {
     "name": "stdin",
     "output_type": "stream",
     "text": [
      "\n",
      "Would you like to see rew data? Enter yes or no.\n",
      " no\n"
     ]
    },
    {
     "name": "stdout",
     "output_type": "stream",
     "text": [
      "Thank You\n"
     ]
    },
    {
     "name": "stdin",
     "output_type": "stream",
     "text": [
      "\n",
      "Would you like to restart? Enter yes or no.\n",
      " no\n"
     ]
    },
    {
     "name": "stdout",
     "output_type": "stream",
     "text": [
      "Thank You\n"
     ]
    }
   ],
   "source": [
    "if __name__ == \"__main__\":\n",
    "\tmain()"
   ]
  },
  {
   "cell_type": "code",
   "execution_count": null,
   "id": "917c3ff8-cfbd-48fa-a43b-83c3add05b2b",
   "metadata": {},
   "outputs": [],
   "source": []
  }
 ],
 "metadata": {
  "kernelspec": {
   "display_name": "Python 3 (ipykernel)",
   "language": "python",
   "name": "python3"
  },
  "language_info": {
   "codemirror_mode": {
    "name": "ipython",
    "version": 3
   },
   "file_extension": ".py",
   "mimetype": "text/x-python",
   "name": "python",
   "nbconvert_exporter": "python",
   "pygments_lexer": "ipython3",
   "version": "3.11.7"
  }
 },
 "nbformat": 4,
 "nbformat_minor": 5
}
